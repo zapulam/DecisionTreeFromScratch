{
 "cells": [
  {
   "cell_type": "markdown",
   "metadata": {},
   "source": [
    "# **Written by Zachary Pulliam**\n",
    "_____________________________________________________________________________________________________________________________________________________________________________________________\n",
    "\n",
    "This notebook is used to visualize the splits created by the Decision Tree Classifier with the data for each Synthetic Dataset. Here you hsould change your ROOT directory and change 'frame' to 1 through 4 to reflect which synthetic dataset you would like to visualize. The bin count can be changed by changing the value of 'k.'\n",
    "\n",
    "_____________________________________________________________________________________________________________________________________________________________________________________________"
   ]
  },
  {
   "cell_type": "code",
   "execution_count": 1,
   "metadata": {},
   "outputs": [
    {
     "name": "stdout",
     "output_type": "stream",
     "text": [
      "Accuracy = 0.96\n"
     ]
    },
    {
     "data": {
      "image/png": "[encoded data removed]",
      "text/plain": [
       "<Figure size 504x504 with 1 Axes>"
      ]
     },
     "metadata": {
      "needs_background": "light"
     },
     "output_type": "display_data"
    }
   ],
   "source": [
    "import pandas as pd\n",
    "import matplotlib.pyplot as plt\n",
    "from matplotlib.patches import Rectangle\n",
    "from decisiontree import DecisionTree\n",
    "from datasets import SyntheticDataset\n",
    "\n",
    "\"\"\"variables for the user to change\"\"\"\n",
    "ROOT = 'C:/Users/Zack\\'s PC/Documents/UK Courses/CS 460/Assignment 1/data'  # change to your ROOT directory\n",
    "frame = 4  # choose synthetic dataset1 1 through 4\n",
    "k = 5  # number of bins\n",
    "\n",
    "\n",
    "dfc = pd.read_csv(ROOT + '/synthetic-{x}.csv'.format(x=frame), names=['A','B','Label'])\n",
    "\n",
    "df = SyntheticDataset(ROOT, frame, k)\n",
    "tree = DecisionTree(df.train, 3)  # creates instance of DecisonTree\n",
    "tree.fit()  # train DecisionTree\n",
    "print(\"Accuracy =\", tree.acc(df.test))\n",
    "node = tree.node  # head node\n",
    "\n",
    "fir_labels = []  # list of labels from first feature\n",
    "sec_labels = []  # list of labels from second feature\n",
    "sec_vals = []  # list of values from second feature\n",
    "\n",
    "# creates lists which determines area and value of surfaces\n",
    "if node.head == True:\n",
    "    first_split = node.feat  # tells which boxes to draw first\n",
    "if node.childs != None:\n",
    "    for child in node.childs:\n",
    "        if child.feat != None:\n",
    "            fir_labels.append(True)\n",
    "            labs, vals = [], []\n",
    "            for i, n in enumerate(child.childs):\n",
    "                labs.append(n.label)\n",
    "                vals.append(n.value)\n",
    "            sec_labels.append(vals)\n",
    "            sec_vals.append(labs)\n",
    "        else:\n",
    "            fir_labels.append(child.label)\n",
    "            sec_labels.append([])\n",
    "            sec_vals.append([])\n",
    "\n",
    "df_t = dfc.loc[dfc['Label'] == 1]  # subset of df with lable of 1\n",
    "df_f = dfc.loc[dfc['Label'] == 0]  # subset of df with lable of 0\n",
    "\n",
    "fig, ax = plt.subplots(figsize=(7,7))\n",
    "\n",
    "x = df.bins[0]\n",
    "y = df.bins[1]\n",
    "\n",
    "if first_split == 'A_bins':\n",
    "    for i, n in enumerate(fir_labels):\n",
    "        if n is True:  # has childs\n",
    "            for j, v in enumerate(sec_labels[i]):\n",
    "                if sec_vals[i][j] == 0: c = 'bisque'\n",
    "                else: c = 'lightsteelblue'\n",
    "                ax.add_patch(Rectangle((x[i], y[j]), x[i+1]-x[i], y[j+1]-y[j], color=c,zorder=0))  # draw A boxes\n",
    "        else:\n",
    "            if n == 0: c = 'bisque'\n",
    "            else: c = 'lightsteelblue'\n",
    "            ax.add_patch(Rectangle((x[i], y[0]), x[i+1]-x[i], y[-1]-y[0], color=c,zorder=0))  # draw B boxes\n",
    "else:\n",
    "    for i, n in enumerate(fir_labels):\n",
    "        if n is True:  # has childs\n",
    "            for j, v in enumerate(sec_labels[i]):\n",
    "                if sec_vals[i][j] == 0: c = 'bisque'\n",
    "                else: c = 'lightsteelblue'\n",
    "                ax.add_patch(Rectangle((x[j], y[i]), x[j+1]-x[j], y[i+1]-y[i], color=c,zorder=0))  # draw B boxes\n",
    "        else:\n",
    "            if n == 0: c = 'bisque'\n",
    "            else: c = 'lightsteelblue'\n",
    "            ax.add_patch(Rectangle((x[0], y[i]), x[-1]-x[0], y[i+1]-y[i], color=c,zorder=0))  # draw A boxes\n",
    "\n",
    "colors = {0:'tab:blue', 1:'tab:orange'}\n",
    "ax.scatter(df_t.A, df_t.B, c='tab:blue')\n",
    "ax.scatter(df_f.A, df_f.B, c='tab:orange')\n",
    "plt.xlabel(\"A\")\n",
    "plt.ylabel(\"B\")\n",
    "plt.title(\"PLOT\")\n",
    "plt.xlim([dfc['A'].min(), dfc['A'].max()])\n",
    "plt.ylim([dfc['B'].min(), dfc['B'].max()])\n",
    "plt.show()"
   ]
  },
  {
   "cell_type": "code",
   "execution_count": null,
   "metadata": {},
   "outputs": [],
   "source": []
  }
 ],
 "metadata": {
  "interpreter": {
   "hash": "e94b4907ea06e8ffc00a1152b131f23416fcb01c909f4f699ab56243ba961803"
  },
  "kernelspec": {
   "display_name": "Python 3.8.12 ('ds')",
   "language": "python",
   "name": "python3"
  },
  "language_info": {
   "codemirror_mode": {
    "name": "ipython",
    "version": 3
   },
   "file_extension": ".py",
   "mimetype": "text/x-python",
   "name": "python",
   "nbconvert_exporter": "python",
   "pygments_lexer": "ipython3",
   "version": "3.9.7"
  },
  "orig_nbformat": 4
 },
 "nbformat": 4,
 "nbformat_minor": 2
}
